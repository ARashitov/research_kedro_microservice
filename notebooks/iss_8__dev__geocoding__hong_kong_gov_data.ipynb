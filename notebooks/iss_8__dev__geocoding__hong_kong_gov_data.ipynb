{
 "cells": [
  {
   "cell_type": "markdown",
   "id": "7727da0e",
   "metadata": {},
   "source": [
    "# About\n",
    "* **Author**: Adil Rashitov (adil@wastelabs.co)\n",
    "* **Created at**: 17.06.2022\n",
    "* **Issue**: https://github.com/AtmosOne/research_kedro_microservice/issues/8\n"
   ]
  },
  {
   "cell_type": "code",
   "execution_count": null,
   "id": "0d4c7bdb",
   "metadata": {
    "code_folding": []
   },
   "outputs": [],
   "source": [
    "# Imports / Configs / Global vars\n",
    "\n",
    "# Import of native python tools\n",
    "import os\n",
    "import json\n",
    "from functools import reduce\n",
    "\n",
    "# Import of base ML stack libs\n",
    "import numpy as np\n",
    "import sklearn as sc\n",
    "\n",
    "# Multiprocessing for Mac / Linux\n",
    "import platform\n",
    "platform.system()\n",
    "if platform.system() == 'Darwin':\n",
    "    from multiprocess import Pool\n",
    "else:\n",
    "    from multiprocessing import Pool\n",
    "\n",
    "# Visualization libraries\n",
    "import plotly.express as px\n",
    "\n",
    "# Logging configuraiton\n",
    "import logging\n",
    "logging.basicConfig(format='[ %(asctime)s ][ %(levelname)s ]: %(message)s', datefmt='%m/%d/%Y %I:%M:%S %p')\n",
    "logger = logging.getLogger()\n",
    "logger.setLevel(logging.INFO)\n",
    "\n",
    "\n",
    "# Ipython configs\n",
    "from IPython.core.display import display, HTML\n",
    "from IPython.core.interactiveshell import InteractiveShell\n",
    "display(HTML(\"<style>.container { width:100% !important; }</style>\"))\n",
    "InteractiveShell.ast_node_interactivity = 'all'\n",
    "\n",
    "# Pandas configs\n",
    "import pandas as pd\n",
    "import geopandas as gpd\n",
    "pd.options.display.max_rows = 350\n",
    "pd.options.display.max_columns = 250\n",
    "\n",
    "# Jupyter configs\n",
    "%load_ext autoreload\n",
    "%autoreload 2\n",
    "%config Completer.use_jedi = False\n",
    "\n",
    "# GLOBAL VARS\n",
    "from pathlib import Path\n",
    "import sys\n",
    "PROJECT_DIR = os.getcwd().rsplit('/', 1)[0]\n",
    "SRC_DIR = PROJECT_DIR \n",
    "\n",
    "\n",
    "if SRC_DIR not in sys.path:\n",
    "    sys.path.append(SRC_DIR)\n",
    "\n",
    "if PROJECT_DIR not in sys.path:\n",
    "    sys.path.append(PROJECT_DIR)"
   ]
  },
  {
   "cell_type": "markdown",
   "id": "1fef11bd",
   "metadata": {},
   "source": [
    "# Context management\n",
    "* Kedro\n",
    "* Data"
   ]
  },
  {
   "cell_type": "code",
   "execution_count": null,
   "id": "bd7c0d64",
   "metadata": {},
   "outputs": [],
   "source": [
    "\"\"\"\n",
    "    About: module for jupyter notebooks initilizing kedro environmnets\n",
    "    Author: Adil Rashitov\n",
    "\"\"\"\n",
    "# 1. Initialization kedro session\n",
    "from pathlib import Path\n",
    "from kedro.framework.startup import bootstrap_project\n",
    "from kedro.framework.session import KedroSession\n",
    "from kedro.extras.extensions.ipython import _find_kedro_project\n",
    "from kedro.framework.context.context import KedroContext\n",
    "\n",
    "\n",
    "def get_kedro_context(env: str) -> KedroContext:\n",
    "    \"\"\"Function performs extraction of kedro context using built-in tools\n",
    "    Args:\n",
    "        env (str): input environment\n",
    "    Returns:\n",
    "        KedroContext: Generated kedro context\n",
    "    \"\"\"\n",
    "    # 1. Bootstrapping project to find main path\n",
    "    startup_path = Path.cwd()\n",
    "    project_path = _find_kedro_project(startup_path)\n",
    "    metadata = bootstrap_project(project_path)\n",
    "    extra_params = None\n",
    "\n",
    "    # 2. Initlize session & create context\n",
    "    session = KedroSession.create(\n",
    "        metadata.package_name,\n",
    "        project_path,\n",
    "        extra_params=extra_params,\n",
    "        env=env,\n",
    "    )\n",
    "    context = session.load_context()\n",
    "\n",
    "    return context\n",
    "\n",
    "\n",
    "\n",
    "\n",
    "test = get_kedro_context(\"test\")"
   ]
  },
  {
   "cell_type": "code",
   "execution_count": null,
   "id": "91121358",
   "metadata": {
    "code_folding": []
   },
   "outputs": [],
   "source": [
    "# Data\n",
    "from datetime import datetime\n",
    "from kedro.framework.context.context import KedroContext\n",
    "from kedro.framework.hooks.manager import _create_hook_manager, _register_hooks\n",
    "\n",
    "from kedro.pipeline import Pipeline\n",
    "\n",
    "from src.backend.starter import init_kedro_session\n",
    "from src.pipelines.pipeline_registry import register_pipelines\n",
    "\n",
    "\n",
    "\n",
    "def _get_pipeline(name: str) -> Pipeline:\n",
    "    return register_pipelines()[name]\n",
    "\n",
    "# 1. Refresh session\n",
    "task_id = \"test_task_id\"\n",
    "pipeline = \"example\"\n",
    "\n",
    "\n",
    "session = init_kedro_session(\"test\", trace_id=task_id)\n",
    "session.session_id = task_id.replace(' ', '_') + \"__\" + session.session_id\n",
    "\n",
    "context = session.load_context()\n",
    "catalog = context.catalog"
   ]
  },
  {
   "cell_type": "markdown",
   "id": "ef932022",
   "metadata": {},
   "source": [
    "# Main\n",
    "Main code goes below"
   ]
  },
  {
   "cell_type": "code",
   "execution_count": null,
   "id": "af737825",
   "metadata": {},
   "outputs": [],
   "source": [
    "from src.pipelines.pipeline_registry import register_pipelines\n",
    "\n",
    "\n",
    "pipelines = register_pipelines()\n",
    "geocoding = pipelines[\"geocoding.geodata_gov_hk.v1\"]"
   ]
  },
  {
   "cell_type": "code",
   "execution_count": null,
   "id": "cdfefbee",
   "metadata": {},
   "outputs": [],
   "source": [
    "print(geocoding.describe())"
   ]
  },
  {
   "cell_type": "code",
   "execution_count": null,
   "id": "380226f7",
   "metadata": {},
   "outputs": [],
   "source": [
    "from kedro.runner import SequentialRunner\n",
    "\n",
    "\n",
    "runner = SequentialRunner()\n",
    "result = runner.run(geocoding, catalog=catalog, session_id=\"suka blyat\")"
   ]
  },
  {
   "cell_type": "code",
   "execution_count": null,
   "id": "a46e3010",
   "metadata": {},
   "outputs": [],
   "source": []
  },
  {
   "cell_type": "code",
   "execution_count": null,
   "id": "14a7b776",
   "metadata": {},
   "outputs": [],
   "source": []
  },
  {
   "cell_type": "code",
   "execution_count": null,
   "id": "2fc6f60a",
   "metadata": {},
   "outputs": [],
   "source": []
  }
 ],
 "metadata": {
  "kernelspec": {
   "display_name": "Python 3 (ipykernel)",
   "language": "python",
   "name": "python3"
  },
  "language_info": {
   "codemirror_mode": {
    "name": "ipython",
    "version": 3
   },
   "file_extension": ".py",
   "mimetype": "text/x-python",
   "name": "python",
   "nbconvert_exporter": "python",
   "pygments_lexer": "ipython3",
   "version": "3.10.5"
  },
  "varInspector": {
   "cols": {
    "lenName": 16,
    "lenType": 16,
    "lenVar": 40
   },
   "kernels_config": {
    "python": {
     "delete_cmd_postfix": "",
     "delete_cmd_prefix": "del ",
     "library": "var_list.py",
     "varRefreshCmd": "print(var_dic_list())"
    },
    "r": {
     "delete_cmd_postfix": ") ",
     "delete_cmd_prefix": "rm(",
     "library": "var_list.r",
     "varRefreshCmd": "cat(var_dic_list()) "
    }
   },
   "types_to_exclude": [
    "module",
    "function",
    "builtin_function_or_method",
    "instance",
    "_Feature"
   ],
   "window_display": false
  }
 },
 "nbformat": 4,
 "nbformat_minor": 5
}
